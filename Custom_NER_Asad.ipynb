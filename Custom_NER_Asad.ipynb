{
 "cells": [
  {
   "cell_type": "code",
   "execution_count": 1,
   "id": "34cf7c42-6dbd-4a4f-a04c-2022a173aff9",
   "metadata": {},
   "outputs": [
    {
     "name": "stdout",
     "output_type": "stream",
     "text": [
      "1\n"
     ]
    }
   ],
   "source": [
    "# Import required libraries\n",
    "import spacy\n",
    "from spacy.tokens import DocBin\n",
    "from tqdm import tqdm\n",
    "import json\n",
    "\n",
    "# Load the annotated data from a JSON file\n",
    "cv_data = json.load(open('training_data.json', 'r'))\n",
    "\n",
    "# Display the number of items in the dataset\n",
    "print(len(cv_data))\n",
    "\n",
    "# Display the first item in the dataset\n",
    "#print(cv_data['annotations'][4])\n"
   ]
  },
  {
   "cell_type": "code",
   "execution_count": 2,
   "id": "82caa7c8-e62a-4ba8-b118-942ebd1287fa",
   "metadata": {},
   "outputs": [],
   "source": [
    "# Define a function to create spaCy DocBin objects from the annotated data\n",
    "def get_spacy_doc(file, data):\n",
    "  # Create a blank spaCy pipeline\n",
    "  nlp = spacy.blank('en')\n",
    "  db = DocBin()\n",
    "\n",
    "  # Iterate through the data\n",
    "  for text, annot in tqdm(data):\n",
    "    doc = nlp.make_doc(text)\n",
    "    annot = annot['entities']\n",
    "\n",
    "    ents = []\n",
    "    entity_indices = []\n",
    "\n",
    "    # Extract entities from the annotations\n",
    "    for start, end, label in annot:\n",
    "      skip_entity = False\n",
    "      for idx in range(start, end):\n",
    "        if idx in entity_indices:\n",
    "          skip_entity = True\n",
    "          break\n",
    "      if skip_entity:\n",
    "        continue\n",
    "\n",
    "      entity_indices = entity_indices + list(range(start, end))\n",
    "      try:\n",
    "        span = doc.char_span(start, end, label=label, alignment_mode='strict')\n",
    "      except:\n",
    "        continue\n",
    "\n",
    "      if span is None:\n",
    "        # Log errors for annotations that couldn't be processed\n",
    "        err_data = str([start, end]) + \"    \" + str(text) + \"\\n\"\n",
    "        file.write(err_data)\n",
    "      else:\n",
    "        ents.append(span)\n",
    "\n",
    "    try:\n",
    "      doc.ents = ents\n",
    "      db.add(doc)\n",
    "    except:\n",
    "      pass\n",
    "\n",
    "  return db"
   ]
  },
  {
   "cell_type": "code",
   "execution_count": 3,
   "id": "44127345-d7b5-4bee-9c22-21612bfcdcad",
   "metadata": {},
   "outputs": [
    {
     "data": {
      "text/plain": [
       "(5, 2)"
      ]
     },
     "execution_count": 3,
     "metadata": {},
     "output_type": "execute_result"
    }
   ],
   "source": [
    "# Split the annotated data into training and testing sets\n",
    "from sklearn.model_selection import train_test_split\n",
    "\n",
    "# Assuming cv_data is a dictionary containing annotations under the key 'annotations'\n",
    "annotations = cv_data['annotations']\n",
    "\n",
    "# Split the annotations into training and testing sets\n",
    "train_ann, test_ann = train_test_split(annotations, test_size=0.2)\n",
    "\n",
    "# Display the number of items in the training and testing sets\n",
    "len(train_ann), len(test_ann)\n"
   ]
  },
  {
   "cell_type": "code",
   "execution_count": 4,
   "id": "8ffbcb0d-0ef5-4c86-bc2f-d18210db2321",
   "metadata": {},
   "outputs": [
    {
     "name": "stderr",
     "output_type": "stream",
     "text": [
      "100%|████████████████████████████████████████████████████████████████████████████████████| 5/5 [00:00<00:00, 20.05it/s]\n",
      "100%|████████████████████████████████████████████████████████████████████████████████████| 2/2 [00:00<00:00, 26.98it/s]\n"
     ]
    }
   ],
   "source": [
    "# Open a file to log errors during annotation processing\n",
    "file = open('train_file.txt','w')\n",
    "\n",
    "# Create spaCy DocBin objects for training and testing data\n",
    "db = get_spacy_doc(file, train_ann)\n",
    "db.to_disk('train_data.spacy')\n",
    "\n",
    "db = get_spacy_doc(file, test_ann)\n",
    "db.to_disk('test_data.spacy')\n",
    "\n",
    "# Close the error log file\n",
    "file.close()"
   ]
  },
  {
   "cell_type": "code",
   "execution_count": 5,
   "id": "c0e06927-a539-4c70-91f9-1430eef7a25b",
   "metadata": {},
   "outputs": [
    {
     "name": "stdout",
     "output_type": "stream",
     "text": [
      "\u001b[38;5;2m[+] Created output directory: \\output\u001b[0m\n",
      "\u001b[38;5;4m[i] Saving to output directory: \\output\u001b[0m\n",
      "\u001b[38;5;4m[i] Using CPU\u001b[0m\n",
      "\u001b[1m\n",
      "=========================== Initializing pipeline ===========================\u001b[0m\n",
      "\u001b[38;5;2m[+] Initialized pipeline\u001b[0m\n",
      "\u001b[1m\n",
      "============================= Training pipeline =============================\u001b[0m\n",
      "\u001b[38;5;4m[i] Pipeline: ['tok2vec', 'ner']\u001b[0m\n",
      "\u001b[38;5;4m[i] Initial learn rate: 0.001\u001b[0m\n",
      "E    #       LOSS TOK2VEC  LOSS NER  ENTS_F  ENTS_P  ENTS_R  SCORE \n",
      "---  ------  ------------  --------  ------  ------  ------  ------\n",
      "  0       0          0.00    439.93    0.00    0.00    0.00    0.00\n",
      " 40     200        309.04  33622.50   75.04   80.00   70.66    0.75\n",
      " 80     400        128.79   1849.91   72.98   80.30   66.88    0.73\n",
      "120     600        131.16    789.97   71.83   75.17   68.77    0.72\n",
      "160     800        148.37    566.80   73.45   80.99   67.19    0.73\n",
      "200    1000        490.17   1470.57   69.76   76.60   64.04    0.70\n",
      "240    1200        171.68    405.55   73.99   79.64   69.09    0.74\n",
      "280    1400        185.99    429.35   75.08   77.08   73.19    0.75\n",
      "320    1600        173.95    404.32   71.58   80.63   64.35    0.72\n",
      "360    1800        264.53    334.98   76.68   84.73   70.03    0.77\n",
      "400    2000        242.63    390.97   75.55   81.16   70.66    0.76\n",
      "440    2200        137.43    288.30   69.78   77.10   63.72    0.70\n",
      "480    2400        148.27    357.69   73.28   78.42   68.77    0.73\n",
      "520    2600        163.37    322.13   71.08   79.38   64.35    0.71\n",
      "560    2800        117.03    269.88   71.63   71.97   71.29    0.72\n",
      "600    3000        165.60    278.09   71.93   81.03   64.67    0.72\n",
      "640    3200        547.05    359.90   73.70   78.57   69.40    0.74\n",
      "680    3400       3742.53   1865.79   71.15   81.05   63.41    0.71\n",
      "\u001b[38;5;2m[+] Saved pipeline to output directory\u001b[0m\n",
      "\\output\\model-last\n"
     ]
    }
   ],
   "source": [
    "!python -m spacy train config.cfg --output /output --paths.train train_data.spacy --paths.dev test_data.spacy --gpu-id -1\n"
   ]
  },
  {
   "cell_type": "code",
   "execution_count": 2,
   "id": "dfe02204-4d76-4b5a-8196-104ce763943e",
   "metadata": {},
   "outputs": [
    {
     "name": "stdout",
     "output_type": "stream",
     "text": [
      " Breast cancer is a type of cancer that originates in the cells of the breast tissue. It can manifest with various \n",
      "symptoms, including the presence of breast lump, changes in breast size or breast shape, nipple inversion \n",
      "or nipple discharge, skin redness or skin dimpling, breast pain, and swollen lymph nodes . Treatment for \n",
      "breast cancer typically involves a combination of therapies. Chemotherapy, hormonal therapy using drugs \n",
      "like Tamoxifen or aromatase inhibitors, targeted therapy with medications such as Herceptin, and \n",
      "radiation therapy are commonly employed to combat the disease. These treatments aim to destroy cancer \n",
      "cells, shrink tumors, and prevent the cancer from spreading or recurring. Early detection and prompt \n",
      "treatment significantly increase the chances of successful outcomes for individuals diagnosed with breast \n",
      "cancer .Skin cancer, particularly melanoma, is characterized by abnormal growth of skin cells. Symptoms \n",
      "often include changes in mole color, mole size, mole shape, the appearance of a new mole or growth on \n",
      "the skin, mole itching or mole pain, the spread of pigment mole . Treatment options for skin cancer, \n",
      "including melanoma, aim to remove the cancerous cells and prevent further spread. These treatments \n",
      "may include surgery, such as wide local excision to remove the cancerous tissue and a margin of healthy \n",
      "skin around it. Additionally, immunotherapy using checkpoint inhibitors helps the body's immune system \n",
      "identify and destroy cancer cells. Targeted therapy with BRAF inhibitors specifically targets cancer cells \n",
      "with BRAF gene mutations. Finally, radiation therapy uses high-energy beams to destroy cancer cells and \n",
      "shrink tumors. These treatment modalities may be used alone or in combination, depending on the stage \n",
      "and severity of the cancer. Leukemia is a type of cancer that affects the blood and bone marrow, leading \n",
      "to an abnormal increase in white blood cells. Common symptoms of leukemia include fatigue, weakness, \n",
      "pale skin, frequent infections, fever, easy bleeding or bruising, enlarged lymph nodes or spleen, and bone \n",
      "pain . Treatment for leukemia aims to destroy the cancerous cells and restore normal blood cell \n",
      "production. Chemotherapy is a common treatment option that involves the use of powerful drugs to kill \n",
      "cancer cells. Targeted therapy with tyrosine kinase inhibitors specifically targets cancer cells by blocking \n",
      "the action of abnormal proteins that promote cell growth. Immunotherapy using monoclonal antibodies \n",
      "helps the immune system recognize and destroy cancer cells. In some cases, a stem cell transplant may \n",
      "be performed to replace damaged bone marrow with healthy stem cells, which can develop into healthy \n",
      "blood cells. \n",
      " \n",
      " \n",
      " \n",
      " \n",
      "\n"
     ]
    }
   ],
   "source": [
    "# Import the spaCy library\n",
    "import spacy\n",
    "\n",
    "# Load the trained spaCy NER model from the specified path\n",
    "nlp = spacy.load('C:/output/model-best')\n",
    "\n",
    "# Import necessary libraries for PDF processing\n",
    "import sys\n",
    "import fitz\n",
    "\n",
    "# Specify the path to the PDF file containing the resume\n",
    "fname = 'C:/Users/USER/Desktop/Test files/test1.pdf'\n",
    "\n",
    "# Open the PDF document using PyMuPDF (fitz)\n",
    "doc = fitz.open(fname)\n",
    "\n",
    "# Initialize an empty string to store the extracted text from the PDF\n",
    "text = \" \"\n",
    "\n",
    "# Iterate through each page in the PDF and concatenate the text\n",
    "for page in doc:\n",
    "  text = text + str(page.get_text())\n",
    "\n",
    "# Display the extracted text\n",
    "print(text)"
   ]
  },
  {
   "cell_type": "code",
   "execution_count": 3,
   "id": "03cc21da-8aba-460f-b718-f9278ef32868",
   "metadata": {},
   "outputs": [
    {
     "name": "stdout",
     "output_type": "stream",
     "text": [
      "Breast cancer   ->>>>   DISEASE\n",
      "nipple discharge   ->>>>   SYMPTOMS\n",
      "skin redness   ->>>>   SYMPTOMS\n",
      "breast pain   ->>>>   SYMPTOMS\n",
      "swollen lymph nodes .   ->>>>   SYMPTOMS\n",
      "Chemotherapy   ->>>>   MEDICATION\n",
      "hormonal therapy   ->>>>   MEDICATION\n",
      "Tamoxifen   ->>>>   MEDICATION\n",
      "aromatase inhibitors   ->>>>   MEDICATION\n",
      "Herceptin   ->>>>   SYMPTOMS\n",
      "therapy   ->>>>   MEDICATION\n",
      "changes in mole color   ->>>>   SYMPTOMS\n",
      "mole size   ->>>>   SYMPTOMS\n",
      "mole shape   ->>>>   SYMPTOMS\n",
      "mole itching   ->>>>   SYMPTOMS\n",
      "mole pain   ->>>>   SYMPTOMS\n",
      "melanoma   ->>>>   SYMPTOMS\n",
      "surgery   ->>>>   MEDICATION\n",
      "Targeted therapy   ->>>>   MEDICATION\n",
      "BRAF inhibitors   ->>>>   MEDICATION\n",
      "radiation therapy   ->>>>   MEDICATION\n",
      "high-energy beams   ->>>>   MEDICATION\n",
      "Leukemia   ->>>>   DISEASE\n",
      "fatigue   ->>>>   SYMPTOMS\n",
      "weakness   ->>>>   SYMPTOMS\n",
      "pale skin   ->>>>   SYMPTOMS\n",
      "frequent infections   ->>>>   SYMPTOMS\n",
      "fever   ->>>>   SYMPTOMS\n",
      "bleeding or bruising   ->>>>   SYMPTOMS\n",
      "Chemotherapy   ->>>>   MEDICATION\n",
      "Targeted therapy   ->>>>   MEDICATION\n",
      "tyrosine kinase inhibitors   ->>>>   MEDICATION\n",
      "Immunotherapy   ->>>>   MEDICATION\n"
     ]
    }
   ],
   "source": [
    "# Process the extracted text using the loaded spaCy NER model\n",
    "doc = nlp(text)\n",
    "\n",
    "# Iterate through the named entities (entities) recognized by the model\n",
    "for ent in doc.ents:\n",
    "  # Print the recognized text and its corresponding label\n",
    "  print(ent.text, \"  ->>>>  \", ent.label_)"
   ]
  },
  {
   "cell_type": "code",
   "execution_count": 3,
   "id": "ff3d2c0c-1242-4844-9f23-03f6f69baa4f",
   "metadata": {},
   "outputs": [
    {
     "ename": "NameError",
     "evalue": "name 'test_ann' is not defined",
     "output_type": "error",
     "traceback": [
      "\u001b[1;31m---------------------------------------------------------------------------\u001b[0m",
      "\u001b[1;31mNameError\u001b[0m                                 Traceback (most recent call last)",
      "Cell \u001b[1;32mIn[3], line 8\u001b[0m\n\u001b[0;32m      5\u001b[0m pred_labels \u001b[38;5;241m=\u001b[39m []\n\u001b[0;32m      6\u001b[0m labels \u001b[38;5;241m=\u001b[39m \u001b[38;5;28mset\u001b[39m()\n\u001b[1;32m----> 8\u001b[0m \u001b[38;5;28;01mfor\u001b[39;00m text, annot \u001b[38;5;129;01min\u001b[39;00m \u001b[43mtest_ann\u001b[49m:\n\u001b[0;32m      9\u001b[0m     doc \u001b[38;5;241m=\u001b[39m nlp(text)\n\u001b[0;32m     11\u001b[0m     \u001b[38;5;66;03m# Collect true entities\u001b[39;00m\n",
      "\u001b[1;31mNameError\u001b[0m: name 'test_ann' is not defined"
     ]
    }
   ],
   "source": []
  },
  {
   "cell_type": "code",
   "execution_count": null,
   "id": "24f74572-dc5b-4423-920c-6b799498f128",
   "metadata": {},
   "outputs": [],
   "source": []
  }
 ],
 "metadata": {
  "kernelspec": {
   "display_name": "Python 3 (ipykernel)",
   "language": "python",
   "name": "python3"
  },
  "language_info": {
   "codemirror_mode": {
    "name": "ipython",
    "version": 3
   },
   "file_extension": ".py",
   "mimetype": "text/x-python",
   "name": "python",
   "nbconvert_exporter": "python",
   "pygments_lexer": "ipython3",
   "version": "3.12.2"
  }
 },
 "nbformat": 4,
 "nbformat_minor": 5
}
